{
 "cells": [
  {
   "cell_type": "code",
   "execution_count": 2,
   "metadata": {},
   "outputs": [],
   "source": [
    "import numpy as np\n",
    "import pandas as pd\n",
    "\n",
    "from collections import Counter"
   ]
  },
  {
   "cell_type": "code",
   "execution_count": 4,
   "metadata": {},
   "outputs": [],
   "source": [
    "class Node:\n",
    "    def __init__(self, feature=None, threshold=None, left=None, right=None, value=None)->None:\n",
    "        self.feature = feature\n",
    "        self.threshold = threshold\n",
    "        self.value = value\n",
    "        self.left = left\n",
    "        self.right = right\n",
    "\n",
    "    def is_leaf(self):\n",
    "        return self.value is not None"
   ]
  },
  {
   "cell_type": "code",
   "execution_count": 15,
   "metadata": {},
   "outputs": [],
   "source": [
    "class DecisionTree:\n",
    "    def __init__(self, min_samples_split = 2, max_depth = 100, features_count = None):\n",
    "        self.min_samples_split = min_samples_split\n",
    "        self.max_depth = max_depth\n",
    "        self.features_count = features_count\n",
    "        self.root = None\n",
    "    \n",
    "    def fit(self, X, y):\n",
    "        self.features_count = X.shape[1] if not self.features_count else min(X.shape[1], self.features_count)\n",
    "        self.root = self._grow_tree(X, y)\n",
    "        \n",
    "    def _grow_tree(self, X, y, depth=0):\n",
    "        samples_count, feat_count = X.shape\n",
    "        labels_count = len(np.unique(y))\n",
    "\n",
    "        if(depth >= self.max_depth or labels_count == 1 or samples_count < self.min_samples_split):\n",
    "            leaf_value = self._most_common_label(y)\n",
    "            return Node(value = leaf_value)\n",
    "        \n",
    "        #best_split\n",
    "        feat_inds = np.random.choice(feat_count, self.features_count, replace=False)        \n",
    "        best_feat, best_thold = self._best_split(X, y, feat_inds)\n",
    "\n",
    "        left_inds, right_inds = self._split(X[:, best_feat], best_thold)\n",
    "        left = self._grow_tree(X[left_inds, :], y[left_inds], depth+1)\n",
    "        right = self._grow_tree(X[right_inds, :], y[right_inds], depth+1)\n",
    "        \n",
    "        return Node(best_feat, best_thold, left, right)\n",
    "\n",
    "\n",
    "    def _most_common_label(self, y):\n",
    "        counter = Counter(y)\n",
    "        return counter.most_common(1)[0][0]\n",
    "    \n",
    "\n",
    "    def _best_split(self, X, y, feat_inds):\n",
    "        best_gain = -1\n",
    "        split_ind, split_thold = None, None\n",
    "\n",
    "        for feat_ind in feat_inds:\n",
    "            X_col = X[:, feat_ind]\n",
    "            tholds = np.unique(X_col)\n",
    "\n",
    "            for t in tholds:\n",
    "                gain = self._information_gain(X_col, y, t)\n",
    "                if gain > best_gain:\n",
    "                    best_gain = gain\n",
    "                    split_ind = feat_ind\n",
    "                    split_thold = t\n",
    "\n",
    "        return split_ind, split_thold\n",
    "    \n",
    "\n",
    "    #Entropy(parent) - [weighted_avg] * Entropy(child)\n",
    "    def _information_gain(self, X_col, y, thold):\n",
    "        #parent_entropy\n",
    "        parent_entropy = self._entropy(y)\n",
    "\n",
    "        #child_entropy\n",
    "        left_inds, right_inds = self._split(X_col, thold)\n",
    "        if len(left_inds) == 0 or len(right_inds) == 0:\n",
    "            return 0\n",
    "\n",
    "        n = len(y)\n",
    "        n_left, n_right = len(left_inds), len(right_inds)\n",
    "        e_left, e_right = self._entropy(y[left_inds]), self._entropy(y[right_inds])\n",
    "        child_entropy = e_left * n_left/n + e_right * n_right/n\n",
    "\n",
    "        return parent_entropy - child_entropy\n",
    "\n",
    "\n",
    "    #Entrpy formula with freq prob\n",
    "    def _entropy(self, y):\n",
    "        probs = np.bincount(y)/len(y)\n",
    "        ret = 0\n",
    "        for p in probs:\n",
    "            if p > 0:\n",
    "                ret += p * np.log(p)\n",
    "\n",
    "        return -ret\n",
    "    \n",
    "\n",
    "    def _split(self, X_col, thold):\n",
    "        left_indexes = np.argwhere(X_col <= thold).flatten()\n",
    "        right_indexes = np.argwhere(X_col > thold).flatten()\n",
    "\n",
    "        return left_indexes, right_indexes\n",
    "    \n",
    "\n",
    "\n",
    "    def predict(self, X):\n",
    "        arr = [self._trav_tree(x, self.root) for x in X]\n",
    "        arr = np.array(arr)\n",
    "        return arr\n",
    "\n",
    "    def _trav_tree(self, x, node):\n",
    "        if node.is_leaf():\n",
    "            return node.value\n",
    "        \n",
    "        if x[node.feature] <= node.threshold:\n",
    "            return self._trav_tree(x, node.left)\n",
    "        else:\n",
    "            return self._trav_tree(x, node.right)"
   ]
  },
  {
   "cell_type": "code",
   "execution_count": 16,
   "metadata": {},
   "outputs": [
    {
     "name": "stdout",
     "output_type": "stream",
     "text": [
      "0.9210526315789473\n"
     ]
    }
   ],
   "source": [
    "from sklearn import datasets\n",
    "from sklearn.model_selection import train_test_split\n",
    "\n",
    "data = datasets.load_breast_cancer()\n",
    "X, y = data.data, data.target\n",
    "\n",
    "X_train, X_test, y_train, y_test = train_test_split(\n",
    "    X, y, test_size=0.2, random_state = 135\n",
    ")\n",
    "\n",
    "classifier = DecisionTree()\n",
    "classifier.fit(X_train, y_train)\n",
    "predictions = classifier.predict(X_test)\n",
    "\n",
    "print(np.sum(y_test == predictions)/len(y_test))"
   ]
  },
  {
   "cell_type": "code",
   "execution_count": 17,
   "metadata": {},
   "outputs": [
    {
     "name": "stdout",
     "output_type": "stream",
     "text": [
      "[0 1 0 1 1 0 1 1 0 0 1 1 1 1 1 0 1 1 1 0 1 1 1 0 1 1 1 0 1 1 0 0 0 1 0 0 0\n",
      " 0 1 0 0 0 1 1 0 1 1 0 0 1 0 1 1 1 0 0 1 0 0 1 1 1 0 0 0 0 1 1 1 0 0 0 0 1\n",
      " 1 0 0 1 0 0 1 0 1 0 0 1 1 1 0 1 1 0 0 1 0 1 1 0 1 1 0 1 0 0 0 0 0 0 1 1 1\n",
      " 1 0 1]\n"
     ]
    }
   ],
   "source": [
    "print(y_test)"
   ]
  }
 ],
 "metadata": {
  "kernelspec": {
   "display_name": "Python 3",
   "language": "python",
   "name": "python3"
  },
  "language_info": {
   "codemirror_mode": {
    "name": "ipython",
    "version": 3
   },
   "file_extension": ".py",
   "mimetype": "text/x-python",
   "name": "python",
   "nbconvert_exporter": "python",
   "pygments_lexer": "ipython3",
   "version": "3.12.4"
  }
 },
 "nbformat": 4,
 "nbformat_minor": 2
}
